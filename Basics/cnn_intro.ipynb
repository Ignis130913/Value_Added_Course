{
  "nbformat": 4,
  "nbformat_minor": 0,
  "metadata": {
    "colab": {
      "provenance": []
    },
    "kernelspec": {
      "name": "python3",
      "display_name": "Python 3"
    },
    "language_info": {
      "name": "python"
    }
  },
  "cells": [
    {
      "cell_type": "code",
      "execution_count": 1,
      "metadata": {
        "id": "KrUWoSMZhaR2"
      },
      "outputs": [],
      "source": [
        "import pandas as pd\n",
        "import numpy as np\n",
        "import matplotlib.pyplot as plt\n",
        "import seaborn as sns\n",
        "from pandas.plotting import scatter_matrix\n",
        "import tensorflow as tf\n",
        "from tensorflow.keras.datasets import cifar10"
      ]
    },
    {
      "cell_type": "code",
      "source": [
        "(x_train,y_train),(x_test,y_test)=cifar10.load_data()"
      ],
      "metadata": {
        "colab": {
          "base_uri": "https://localhost:8080/"
        },
        "id": "Z5xEQvwIha-d",
        "outputId": "c65a09c1-f5a6-4da6-a9d1-481dbf513a54"
      },
      "execution_count": 3,
      "outputs": [
        {
          "output_type": "stream",
          "name": "stdout",
          "text": [
            "Downloading data from https://www.cs.toronto.edu/~kriz/cifar-10-python.tar.gz\n",
            "170498071/170498071 [==============================] - 11s 0us/step\n"
          ]
        }
      ]
    },
    {
      "cell_type": "code",
      "source": [
        "print(x_train.shape,x_test.shape,y_train.shape,y_test.shape)"
      ],
      "metadata": {
        "colab": {
          "base_uri": "https://localhost:8080/"
        },
        "id": "4bKY7rRphrG3",
        "outputId": "1a9346ac-031d-434e-f5fd-e70273199021"
      },
      "execution_count": 4,
      "outputs": [
        {
          "output_type": "stream",
          "name": "stdout",
          "text": [
            "(50000, 32, 32, 3) (10000, 32, 32, 3) (50000, 1) (10000, 1)\n"
          ]
        }
      ]
    },
    {
      "cell_type": "code",
      "source": [
        "x_train.shape"
      ],
      "metadata": {
        "colab": {
          "base_uri": "https://localhost:8080/"
        },
        "id": "DQVU1Yv-hzHy",
        "outputId": "249252ac-a87a-466a-aab4-ae257d24b60f"
      },
      "execution_count": 8,
      "outputs": [
        {
          "output_type": "execute_result",
          "data": {
            "text/plain": [
              "(50000, 32, 32, 3)"
            ]
          },
          "metadata": {},
          "execution_count": 8
        }
      ]
    },
    {
      "cell_type": "code",
      "source": [
        "y_train=y_train.reshape(-1,)\n",
        "y_test=y_test.reshape(-1,)\n",
        "print(y_train)"
      ],
      "metadata": {
        "colab": {
          "base_uri": "https://localhost:8080/"
        },
        "id": "D5sKiTtqh5fc",
        "outputId": "ff17a55a-141f-4603-c364-4395b3d95bbb"
      },
      "execution_count": 9,
      "outputs": [
        {
          "output_type": "stream",
          "name": "stdout",
          "text": [
            "[6 9 9 ... 9 1 1]\n"
          ]
        }
      ]
    },
    {
      "cell_type": "code",
      "source": [
        "plt.imshow(x_train[1])\n",
        "plt.axis('off')\n",
        "plt.show()"
      ],
      "metadata": {
        "colab": {
          "base_uri": "https://localhost:8080/",
          "height": 406
        },
        "id": "VGx6OlPtiNvq",
        "outputId": "89f2a9ea-c3a4-4243-f458-755aaa46004b"
      },
      "execution_count": 10,
      "outputs": [
        {
          "output_type": "display_data",
          "data": {
            "text/plain": [
              "<Figure size 640x480 with 1 Axes>"
            ],
            "image/png": "[encoded data removed]"
          },
          "metadata": {}
        }
      ]
    },
    {
      "cell_type": "code",
      "source": [
        "y_train[1]"
      ],
      "metadata": {
        "colab": {
          "base_uri": "https://localhost:8080/"
        },
        "id": "-e71Za_jilF8",
        "outputId": "129557ff-d237-474c-b951-f7148d066cd3"
      },
      "execution_count": 14,
      "outputs": [
        {
          "output_type": "execute_result",
          "data": {
            "text/plain": [
              "9"
            ]
          },
          "metadata": {},
          "execution_count": 14
        }
      ]
    },
    {
      "cell_type": "code",
      "source": [
        "x_train = x_train / 255.0\n",
        "x_test = x_test / 255.0"
      ],
      "metadata": {
        "id": "JJKQitBHiZ3y"
      },
      "execution_count": 12,
      "outputs": []
    },
    {
      "cell_type": "code",
      "source": [
        "cifar10_classes = [\n",
        "    \"airplane\", \"automobile\", \"bird\", \"cat\", \"deer\",\n",
        "    \"dog\", \"frog\", \"horse\", \"ship\", \"truck\"\n",
        "]"
      ],
      "metadata": {
        "id": "5B75aPFcigVx"
      },
      "execution_count": 15,
      "outputs": []
    },
    {
      "cell_type": "code",
      "source": [
        "import keras\n",
        "from tensorflow.keras import Sequential\n",
        "from tensorflow.keras import models,layers"
      ],
      "metadata": {
        "id": "ogFKpzwpjghU"
      },
      "execution_count": 16,
      "outputs": []
    },
    {
      "cell_type": "code",
      "source": [
        "ann=models.Sequential([\n",
        "    layers.Flatten(input_shape=(32,32,3)),\n",
        "    layers.Dense(3000, activation='relu'),\n",
        "    layers.Dense(1000, activation='relu'),\n",
        "    layers.Dense(10, activation='softmax')\n",
        "])"
      ],
      "metadata": {
        "id": "Ta81j6VAj2wL"
      },
      "execution_count": 17,
      "outputs": []
    },
    {
      "cell_type": "code",
      "source": [
        "ann.compile(optimizer='SGD',\n",
        "              loss='sparse_categorical_crossentropy',\n",
        "              metrics=['accuracy'])"
      ],
      "metadata": {
        "id": "ndBZtRzLkGlY"
      },
      "execution_count": 18,
      "outputs": []
    },
    {
      "cell_type": "code",
      "source": [
        "ann.fit(x_train, y_train, epochs=2)"
      ],
      "metadata": {
        "colab": {
          "base_uri": "https://localhost:8080/"
        },
        "id": "j8n3DVMykPK0",
        "outputId": "4e2d4ecd-d1ed-4c2d-dc7c-285f448bd17a"
      },
      "execution_count": 19,
      "outputs": [
        {
          "output_type": "stream",
          "name": "stdout",
          "text": [
            "Epoch 1/2\n",
            "1563/1563 [==============================] - 163s 104ms/step - loss: 1.8092 - accuracy: 0.3564\n",
            "Epoch 2/2\n",
            "1563/1563 [==============================] - 148s 95ms/step - loss: 1.6246 - accuracy: 0.4249\n"
          ]
        },
        {
          "output_type": "execute_result",
          "data": {
            "text/plain": [
              "<keras.src.callbacks.History at 0x78479cfe8cd0>"
            ]
          },
          "metadata": {},
          "execution_count": 19
        }
      ]
    },
    {
      "cell_type": "code",
      "source": [
        "pre=ann.predict(x_test)\n",
        "pred=np.argmax(pre,axis=1)\n",
        "print(pred)"
      ],
      "metadata": {
        "colab": {
          "base_uri": "https://localhost:8080/"
        },
        "id": "2nzXkAnakK8r",
        "outputId": "159acd63-0ce6-41f3-ce03-c9a0d101b4c5"
      },
      "execution_count": 22,
      "outputs": [
        {
          "output_type": "stream",
          "name": "stdout",
          "text": [
            "313/313 [==============================] - 11s 36ms/step\n",
            "[3 8 8 ... 3 6 4]\n"
          ]
        }
      ]
    },
    {
      "cell_type": "code",
      "source": [
        "prediction=[cifar10_classes[i] for i in pred]"
      ],
      "metadata": {
        "id": "rQKqc4WNl0eq"
      },
      "execution_count": 28,
      "outputs": []
    },
    {
      "cell_type": "code",
      "source": [
        "prediction"
      ],
      "metadata": {
        "colab": {
          "base_uri": "https://localhost:8080/"
        },
        "id": "fBeeGTgfmH1s",
        "outputId": "c51aaae6-205a-440a-865e-415dc0326f81"
      },
      "execution_count": 29,
      "outputs": [
        {
          "output_type": "execute_result",
          "data": {
            "text/plain": [
              "['cat',\n",
              " 'ship',\n",
              " 'ship',\n",
              " 'ship',\n",
              " 'deer',\n",
              " 'frog',\n",
              " 'cat',\n",
              " 'frog',\n",
              " 'deer',\n",
              " 'ship',\n",
              " 'ship',\n",
              " 'truck',\n",
              " 'frog',\n",
              " 'horse',\n",
              " 'automobile',\n",
              " 'ship',\n",
              " 'dog',\n",
              " 'deer',\n",
              " 'ship',\n",
              " 'frog',\n",
              " 'deer',\n",
              " 'bird',\n",
              " 'airplane',\n",
              " 'truck',\n",
              " 'deer',\n",
              " 'frog',\n",
              " 'frog',\n",
              " 'airplane',\n",
              " 'automobile',\n",
              " 'frog',\n",
              " 'frog',\n",
              " 'deer',\n",
              " 'deer',\n",
              " 'frog',\n",
              " 'ship',\n",
              " 'automobile',\n",
              " 'frog',\n",
              " 'ship',\n",
              " 'ship',\n",
              " 'dog',\n",
              " 'airplane',\n",
              " 'frog',\n",
              " 'cat',\n",
              " 'frog',\n",
              " 'airplane',\n",
              " 'ship',\n",
              " 'cat',\n",
              " 'ship',\n",
              " 'deer',\n",
              " 'frog',\n",
              " 'ship',\n",
              " 'ship',\n",
              " 'frog',\n",
              " 'cat',\n",
              " 'ship',\n",
              " 'ship',\n",
              " 'dog',\n",
              " 'automobile',\n",
              " 'ship',\n",
              " 'bird',\n",
              " 'deer',\n",
              " 'cat',\n",
              " 'automobile',\n",
              " 'automobile',\n",
              " 'frog',\n",
              " 'bird',\n",
              " 'automobile',\n",
              " 'airplane',\n",
              " 'dog',\n",
              " 'truck',\n",
              " 'deer',\n",
              " 'frog',\n",
              " 'ship',\n",
              " 'ship',\n",
              " 'ship',\n",
              " 'bird',\n",
              " 'truck',\n",
              " 'dog',\n",
              " 'cat',\n",
              " 'ship',\n",
              " 'ship',\n",
              " 'automobile',\n",
              " 'bird',\n",
              " 'bird',\n",
              " 'bird',\n",
              " 'airplane',\n",
              " 'ship',\n",
              " 'ship',\n",
              " 'ship',\n",
              " 'ship',\n",
              " 'ship',\n",
              " 'deer',\n",
              " 'ship',\n",
              " 'bird',\n",
              " 'deer',\n",
              " 'frog',\n",
              " 'frog',\n",
              " 'airplane',\n",
              " 'bird',\n",
              " 'horse',\n",
              " 'deer',\n",
              " 'deer',\n",
              " 'frog',\n",
              " 'cat',\n",
              " 'automobile',\n",
              " 'automobile',\n",
              " 'dog',\n",
              " 'frog',\n",
              " 'ship',\n",
              " 'dog',\n",
              " 'frog',\n",
              " 'bird',\n",
              " 'frog',\n",
              " 'deer',\n",
              " 'truck',\n",
              " 'frog',\n",
              " 'airplane',\n",
              " 'ship',\n",
              " 'dog',\n",
              " 'dog',\n",
              " 'ship',\n",
              " 'deer',\n",
              " 'ship',\n",
              " 'bird',\n",
              " 'ship',\n",
              " 'bird',\n",
              " 'ship',\n",
              " 'dog',\n",
              " 'cat',\n",
              " 'bird',\n",
              " 'deer',\n",
              " 'ship',\n",
              " 'ship',\n",
              " 'truck',\n",
              " 'airplane',\n",
              " 'bird',\n",
              " 'truck',\n",
              " 'deer',\n",
              " 'frog',\n",
              " 'ship',\n",
              " 'bird',\n",
              " 'ship',\n",
              " 'frog',\n",
              " 'dog',\n",
              " 'ship',\n",
              " 'bird',\n",
              " 'frog',\n",
              " 'dog',\n",
              " 'dog',\n",
              " 'dog',\n",
              " 'ship',\n",
              " 'cat',\n",
              " 'ship',\n",
              " 'ship',\n",
              " 'airplane',\n",
              " 'dog',\n",
              " 'bird',\n",
              " 'ship',\n",
              " 'cat',\n",
              " 'airplane',\n",
              " 'bird',\n",
              " 'automobile',\n",
              " 'automobile',\n",
              " 'deer',\n",
              " 'ship',\n",
              " 'horse',\n",
              " 'ship',\n",
              " 'frog',\n",
              " 'frog',\n",
              " 'ship',\n",
              " 'airplane',\n",
              " 'horse',\n",
              " 'airplane',\n",
              " 'ship',\n",
              " 'truck',\n",
              " 'truck',\n",
              " 'ship',\n",
              " 'frog',\n",
              " 'cat',\n",
              " 'ship',\n",
              " 'ship',\n",
              " 'horse',\n",
              " 'frog',\n",
              " 'ship',\n",
              " 'bird',\n",
              " 'ship',\n",
              " 'frog',\n",
              " 'frog',\n",
              " 'frog',\n",
              " 'airplane',\n",
              " 'deer',\n",
              " 'cat',\n",
              " 'bird',\n",
              " 'automobile',\n",
              " 'frog',\n",
              " 'deer',\n",
              " 'ship',\n",
              " 'bird',\n",
              " 'cat',\n",
              " 'ship',\n",
              " 'dog',\n",
              " 'ship',\n",
              " 'ship',\n",
              " 'bird',\n",
              " 'ship',\n",
              " 'frog',\n",
              " 'ship',\n",
              " 'deer',\n",
              " 'bird',\n",
              " 'ship',\n",
              " 'bird',\n",
              " 'automobile',\n",
              " 'bird',\n",
              " 'horse',\n",
              " 'ship',\n",
              " 'bird',\n",
              " 'ship',\n",
              " 'truck',\n",
              " 'airplane',\n",
              " 'deer',\n",
              " 'bird',\n",
              " 'frog',\n",
              " 'ship',\n",
              " 'frog',\n",
              " 'truck',\n",
              " 'truck',\n",
              " 'truck',\n",
              " 'bird',\n",
              " 'bird',\n",
              " 'bird',\n",
              " 'cat',\n",
              " 'automobile',\n",
              " 'automobile',\n",
              " 'cat',\n",
              " 'ship',\n",
              " 'airplane',\n",
              " 'deer',\n",
              " 'ship',\n",
              " 'frog',\n",
              " 'frog',\n",
              " 'automobile',\n",
              " 'ship',\n",
              " 'ship',\n",
              " 'ship',\n",
              " 'airplane',\n",
              " 'dog',\n",
              " 'deer',\n",
              " 'ship',\n",
              " 'bird',\n",
              " 'automobile',\n",
              " 'bird',\n",
              " 'cat',\n",
              " 'frog',\n",
              " 'frog',\n",
              " 'bird',\n",
              " 'airplane',\n",
              " 'frog',\n",
              " 'ship',\n",
              " 'ship',\n",
              " 'cat',\n",
              " 'dog',\n",
              " 'ship',\n",
              " 'frog',\n",
              " 'cat',\n",
              " 'airplane',\n",
              " 'ship',\n",
              " 'ship',\n",
              " 'deer',\n",
              " 'ship',\n",
              " 'bird',\n",
              " 'bird',\n",
              " 'frog',\n",
              " 'frog',\n",
              " 'dog',\n",
              " 'ship',\n",
              " 'dog',\n",
              " 'airplane',\n",
              " 'deer',\n",
              " 'bird',\n",
              " 'dog',\n",
              " 'truck',\n",
              " 'deer',\n",
              " 'bird',\n",
              " 'automobile',\n",
              " 'ship',\n",
              " 'truck',\n",
              " 'ship',\n",
              " 'ship',\n",
              " 'airplane',\n",
              " 'truck',\n",
              " 'automobile',\n",
              " 'frog',\n",
              " 'frog',\n",
              " 'ship',\n",
              " 'cat',\n",
              " 'deer',\n",
              " 'frog',\n",
              " 'airplane',\n",
              " 'airplane',\n",
              " 'deer',\n",
              " 'frog',\n",
              " 'frog',\n",
              " 'bird',\n",
              " 'ship',\n",
              " 'frog',\n",
              " 'ship',\n",
              " 'ship',\n",
              " 'deer',\n",
              " 'automobile',\n",
              " 'deer',\n",
              " 'ship',\n",
              " 'frog',\n",
              " 'airplane',\n",
              " 'airplane',\n",
              " 'bird',\n",
              " 'bird',\n",
              " 'bird',\n",
              " 'frog',\n",
              " 'deer',\n",
              " 'cat',\n",
              " 'dog',\n",
              " 'dog',\n",
              " 'frog',\n",
              " 'deer',\n",
              " 'frog',\n",
              " 'ship',\n",
              " 'deer',\n",
              " 'frog',\n",
              " 'airplane',\n",
              " 'bird',\n",
              " 'deer',\n",
              " 'truck',\n",
              " 'frog',\n",
              " 'frog',\n",
              " 'frog',\n",
              " 'frog',\n",
              " 'cat',\n",
              " 'ship',\n",
              " 'airplane',\n",
              " 'horse',\n",
              " 'deer',\n",
              " 'frog',\n",
              " 'airplane',\n",
              " 'dog',\n",
              " 'ship',\n",
              " 'cat',\n",
              " 'bird',\n",
              " 'cat',\n",
              " 'ship',\n",
              " 'automobile',\n",
              " 'automobile',\n",
              " 'automobile',\n",
              " 'ship',\n",
              " 'bird',\n",
              " 'frog',\n",
              " 'frog',\n",
              " 'frog',\n",
              " 'bird',\n",
              " 'ship',\n",
              " 'ship',\n",
              " 'truck',\n",
              " 'dog',\n",
              " 'ship',\n",
              " 'airplane',\n",
              " 'truck',\n",
              " 'ship',\n",
              " 'deer',\n",
              " 'dog',\n",
              " 'airplane',\n",
              " 'deer',\n",
              " 'frog',\n",
              " 'horse',\n",
              " 'ship',\n",
              " 'bird',\n",
              " 'bird',\n",
              " 'deer',\n",
              " 'ship',\n",
              " 'deer',\n",
              " 'ship',\n",
              " 'frog',\n",
              " 'deer',\n",
              " 'ship',\n",
              " 'airplane',\n",
              " 'airplane',\n",
              " 'frog',\n",
              " 'airplane',\n",
              " 'horse',\n",
              " 'deer',\n",
              " 'bird',\n",
              " 'frog',\n",
              " 'automobile',\n",
              " 'airplane',\n",
              " 'frog',\n",
              " 'horse',\n",
              " 'bird',\n",
              " 'frog',\n",
              " 'bird',\n",
              " 'cat',\n",
              " 'ship',\n",
              " 'ship',\n",
              " 'truck',\n",
              " 'automobile',\n",
              " 'frog',\n",
              " 'ship',\n",
              " 'ship',\n",
              " 'bird',\n",
              " 'airplane',\n",
              " 'horse',\n",
              " 'ship',\n",
              " 'bird',\n",
              " 'ship',\n",
              " 'airplane',\n",
              " 'bird',\n",
              " 'frog',\n",
              " 'automobile',\n",
              " 'ship',\n",
              " 'frog',\n",
              " 'automobile',\n",
              " 'dog',\n",
              " 'horse',\n",
              " 'frog',\n",
              " 'deer',\n",
              " 'ship',\n",
              " 'frog',\n",
              " 'deer',\n",
              " 'ship',\n",
              " 'dog',\n",
              " 'deer',\n",
              " 'deer',\n",
              " 'frog',\n",
              " 'bird',\n",
              " 'dog',\n",
              " 'dog',\n",
              " 'cat',\n",
              " 'frog',\n",
              " 'deer',\n",
              " 'ship',\n",
              " 'bird',\n",
              " 'cat',\n",
              " 'frog',\n",
              " 'frog',\n",
              " 'bird',\n",
              " 'truck',\n",
              " 'ship',\n",
              " 'cat',\n",
              " 'frog',\n",
              " 'ship',\n",
              " 'airplane',\n",
              " 'bird',\n",
              " 'airplane',\n",
              " 'frog',\n",
              " 'ship',\n",
              " 'airplane',\n",
              " 'deer',\n",
              " 'truck',\n",
              " 'bird',\n",
              " 'frog',\n",
              " 'deer',\n",
              " 'frog',\n",
              " 'ship',\n",
              " 'cat',\n",
              " 'frog',\n",
              " 'automobile',\n",
              " 'dog',\n",
              " 'ship',\n",
              " 'frog',\n",
              " 'frog',\n",
              " 'frog',\n",
              " 'dog',\n",
              " 'ship',\n",
              " 'dog',\n",
              " 'cat',\n",
              " 'ship',\n",
              " 'bird',\n",
              " 'cat',\n",
              " 'dog',\n",
              " 'deer',\n",
              " 'ship',\n",
              " 'bird',\n",
              " 'deer',\n",
              " 'automobile',\n",
              " 'frog',\n",
              " 'ship',\n",
              " 'deer',\n",
              " 'frog',\n",
              " 'ship',\n",
              " 'truck',\n",
              " 'ship',\n",
              " 'ship',\n",
              " 'airplane',\n",
              " 'automobile',\n",
              " 'ship',\n",
              " 'ship',\n",
              " 'automobile',\n",
              " 'ship',\n",
              " 'ship',\n",
              " 'automobile',\n",
              " 'bird',\n",
              " 'bird',\n",
              " 'bird',\n",
              " 'frog',\n",
              " 'frog',\n",
              " 'deer',\n",
              " 'frog',\n",
              " 'automobile',\n",
              " 'bird',\n",
              " 'cat',\n",
              " 'airplane',\n",
              " 'ship',\n",
              " 'deer',\n",
              " 'dog',\n",
              " 'frog',\n",
              " 'frog',\n",
              " 'ship',\n",
              " 'cat',\n",
              " 'truck',\n",
              " 'ship',\n",
              " 'automobile',\n",
              " 'truck',\n",
              " 'ship',\n",
              " 'dog',\n",
              " 'airplane',\n",
              " 'airplane',\n",
              " 'truck',\n",
              " 'airplane',\n",
              " 'dog',\n",
              " 'bird',\n",
              " 'ship',\n",
              " 'airplane',\n",
              " 'frog',\n",
              " 'ship',\n",
              " 'ship',\n",
              " 'automobile',\n",
              " 'dog',\n",
              " 'frog',\n",
              " 'frog',\n",
              " 'frog',\n",
              " 'frog',\n",
              " 'ship',\n",
              " 'ship',\n",
              " 'ship',\n",
              " 'deer',\n",
              " 'frog',\n",
              " 'frog',\n",
              " 'dog',\n",
              " 'truck',\n",
              " 'ship',\n",
              " 'frog',\n",
              " 'frog',\n",
              " 'dog',\n",
              " 'bird',\n",
              " 'bird',\n",
              " 'ship',\n",
              " 'cat',\n",
              " 'dog',\n",
              " 'ship',\n",
              " 'frog',\n",
              " 'deer',\n",
              " 'cat',\n",
              " 'bird',\n",
              " 'ship',\n",
              " 'horse',\n",
              " 'frog',\n",
              " 'frog',\n",
              " 'deer',\n",
              " 'dog',\n",
              " 'ship',\n",
              " 'frog',\n",
              " 'ship',\n",
              " 'deer',\n",
              " 'frog',\n",
              " 'horse',\n",
              " 'automobile',\n",
              " 'frog',\n",
              " 'frog',\n",
              " 'frog',\n",
              " 'ship',\n",
              " 'airplane',\n",
              " 'bird',\n",
              " 'truck',\n",
              " 'deer',\n",
              " 'bird',\n",
              " 'deer',\n",
              " 'bird',\n",
              " 'airplane',\n",
              " 'ship',\n",
              " 'frog',\n",
              " 'deer',\n",
              " 'ship',\n",
              " 'ship',\n",
              " 'frog',\n",
              " 'ship',\n",
              " 'bird',\n",
              " 'frog',\n",
              " 'ship',\n",
              " 'automobile',\n",
              " 'frog',\n",
              " 'ship',\n",
              " 'frog',\n",
              " 'frog',\n",
              " 'ship',\n",
              " 'dog',\n",
              " 'airplane',\n",
              " 'dog',\n",
              " 'automobile',\n",
              " 'dog',\n",
              " 'frog',\n",
              " 'cat',\n",
              " 'cat',\n",
              " 'truck',\n",
              " 'frog',\n",
              " 'ship',\n",
              " 'ship',\n",
              " 'ship',\n",
              " 'dog',\n",
              " 'dog',\n",
              " 'frog',\n",
              " 'frog',\n",
              " 'ship',\n",
              " 'automobile',\n",
              " 'deer',\n",
              " 'deer',\n",
              " 'automobile',\n",
              " 'bird',\n",
              " 'horse',\n",
              " 'automobile',\n",
              " 'automobile',\n",
              " 'deer',\n",
              " 'deer',\n",
              " 'dog',\n",
              " 'ship',\n",
              " 'bird',\n",
              " 'frog',\n",
              " 'ship',\n",
              " 'deer',\n",
              " 'frog',\n",
              " 'ship',\n",
              " 'airplane',\n",
              " 'ship',\n",
              " 'bird',\n",
              " 'cat',\n",
              " 'bird',\n",
              " 'ship',\n",
              " 'deer',\n",
              " 'airplane',\n",
              " 'automobile',\n",
              " 'dog',\n",
              " 'bird',\n",
              " 'bird',\n",
              " 'bird',\n",
              " 'cat',\n",
              " 'ship',\n",
              " 'cat',\n",
              " 'deer',\n",
              " 'automobile',\n",
              " 'airplane',\n",
              " 'ship',\n",
              " 'automobile',\n",
              " 'deer',\n",
              " 'frog',\n",
              " 'truck',\n",
              " 'deer',\n",
              " 'horse',\n",
              " 'frog',\n",
              " 'cat',\n",
              " 'ship',\n",
              " 'dog',\n",
              " 'airplane',\n",
              " 'ship',\n",
              " 'bird',\n",
              " 'frog',\n",
              " 'cat',\n",
              " 'cat',\n",
              " 'frog',\n",
              " 'frog',\n",
              " 'cat',\n",
              " 'deer',\n",
              " 'truck',\n",
              " 'frog',\n",
              " 'cat',\n",
              " 'truck',\n",
              " 'frog',\n",
              " 'ship',\n",
              " 'ship',\n",
              " 'truck',\n",
              " 'bird',\n",
              " 'ship',\n",
              " 'ship',\n",
              " 'frog',\n",
              " 'deer',\n",
              " 'deer',\n",
              " 'bird',\n",
              " 'airplane',\n",
              " 'horse',\n",
              " 'ship',\n",
              " 'deer',\n",
              " 'ship',\n",
              " 'cat',\n",
              " 'deer',\n",
              " 'dog',\n",
              " 'horse',\n",
              " 'airplane',\n",
              " 'frog',\n",
              " 'airplane',\n",
              " 'deer',\n",
              " 'deer',\n",
              " 'ship',\n",
              " 'dog',\n",
              " 'ship',\n",
              " 'ship',\n",
              " 'bird',\n",
              " 'ship',\n",
              " 'ship',\n",
              " 'horse',\n",
              " 'dog',\n",
              " 'automobile',\n",
              " 'frog',\n",
              " 'automobile',\n",
              " 'deer',\n",
              " 'ship',\n",
              " 'truck',\n",
              " 'ship',\n",
              " 'ship',\n",
              " 'automobile',\n",
              " 'ship',\n",
              " 'ship',\n",
              " 'automobile',\n",
              " 'dog',\n",
              " 'frog',\n",
              " 'dog',\n",
              " 'dog',\n",
              " 'bird',\n",
              " 'dog',\n",
              " 'frog',\n",
              " 'ship',\n",
              " 'deer',\n",
              " 'airplane',\n",
              " 'airplane',\n",
              " 'automobile',\n",
              " 'dog',\n",
              " 'frog',\n",
              " 'deer',\n",
              " 'deer',\n",
              " 'horse',\n",
              " 'frog',\n",
              " 'deer',\n",
              " 'frog',\n",
              " 'frog',\n",
              " 'bird',\n",
              " 'dog',\n",
              " 'truck',\n",
              " 'airplane',\n",
              " 'frog',\n",
              " 'automobile',\n",
              " 'bird',\n",
              " 'deer',\n",
              " 'frog',\n",
              " 'ship',\n",
              " 'ship',\n",
              " 'automobile',\n",
              " 'automobile',\n",
              " 'frog',\n",
              " 'airplane',\n",
              " 'airplane',\n",
              " 'ship',\n",
              " 'bird',\n",
              " 'ship',\n",
              " 'ship',\n",
              " 'bird',\n",
              " 'ship',\n",
              " 'dog',\n",
              " 'deer',\n",
              " 'frog',\n",
              " 'dog',\n",
              " 'airplane',\n",
              " 'deer',\n",
              " 'bird',\n",
              " 'frog',\n",
              " 'deer',\n",
              " 'frog',\n",
              " 'deer',\n",
              " 'automobile',\n",
              " 'deer',\n",
              " 'frog',\n",
              " 'frog',\n",
              " 'ship',\n",
              " 'frog',\n",
              " 'ship',\n",
              " 'deer',\n",
              " 'ship',\n",
              " 'airplane',\n",
              " 'airplane',\n",
              " 'airplane',\n",
              " 'ship',\n",
              " 'horse',\n",
              " 'bird',\n",
              " 'deer',\n",
              " 'frog',\n",
              " 'deer',\n",
              " 'deer',\n",
              " 'horse',\n",
              " 'automobile',\n",
              " 'airplane',\n",
              " 'deer',\n",
              " 'bird',\n",
              " 'bird',\n",
              " 'ship',\n",
              " 'deer',\n",
              " 'bird',\n",
              " 'bird',\n",
              " 'cat',\n",
              " 'frog',\n",
              " 'horse',\n",
              " 'deer',\n",
              " 'ship',\n",
              " 'ship',\n",
              " 'truck',\n",
              " 'cat',\n",
              " 'deer',\n",
              " 'bird',\n",
              " 'ship',\n",
              " 'deer',\n",
              " 'ship',\n",
              " 'ship',\n",
              " 'deer',\n",
              " 'ship',\n",
              " 'deer',\n",
              " 'frog',\n",
              " 'bird',\n",
              " 'bird',\n",
              " 'ship',\n",
              " 'dog',\n",
              " 'bird',\n",
              " 'cat',\n",
              " 'deer',\n",
              " 'cat',\n",
              " 'ship',\n",
              " 'horse',\n",
              " 'truck',\n",
              " 'bird',\n",
              " 'horse',\n",
              " 'ship',\n",
              " 'horse',\n",
              " 'deer',\n",
              " 'horse',\n",
              " 'truck',\n",
              " 'deer',\n",
              " 'airplane',\n",
              " 'bird',\n",
              " 'deer',\n",
              " 'dog',\n",
              " 'automobile',\n",
              " 'ship',\n",
              " 'ship',\n",
              " 'airplane',\n",
              " 'ship',\n",
              " 'airplane',\n",
              " 'airplane',\n",
              " 'bird',\n",
              " 'ship',\n",
              " 'deer',\n",
              " 'deer',\n",
              " 'frog',\n",
              " 'dog',\n",
              " 'airplane',\n",
              " 'automobile',\n",
              " 'frog',\n",
              " 'deer',\n",
              " 'airplane',\n",
              " 'ship',\n",
              " 'frog',\n",
              " 'automobile',\n",
              " 'deer',\n",
              " 'airplane',\n",
              " 'cat',\n",
              " 'ship',\n",
              " 'deer',\n",
              " 'bird',\n",
              " 'ship',\n",
              " 'horse',\n",
              " 'ship',\n",
              " 'deer',\n",
              " 'airplane',\n",
              " 'airplane',\n",
              " 'ship',\n",
              " 'airplane',\n",
              " 'ship',\n",
              " 'automobile',\n",
              " 'ship',\n",
              " 'deer',\n",
              " 'cat',\n",
              " 'deer',\n",
              " 'dog',\n",
              " 'frog',\n",
              " 'automobile',\n",
              " 'automobile',\n",
              " 'cat',\n",
              " 'deer',\n",
              " 'cat',\n",
              " 'automobile',\n",
              " 'deer',\n",
              " 'frog',\n",
              " 'deer',\n",
              " 'dog',\n",
              " 'ship',\n",
              " 'bird',\n",
              " 'ship',\n",
              " 'frog',\n",
              " 'ship',\n",
              " 'ship',\n",
              " 'frog',\n",
              " 'cat',\n",
              " 'frog',\n",
              " 'bird',\n",
              " 'frog',\n",
              " 'automobile',\n",
              " 'airplane',\n",
              " 'ship',\n",
              " 'ship',\n",
              " 'deer',\n",
              " 'frog',\n",
              " 'ship',\n",
              " 'automobile',\n",
              " 'frog',\n",
              " 'dog',\n",
              " 'cat',\n",
              " 'frog',\n",
              " 'frog',\n",
              " 'bird',\n",
              " 'ship',\n",
              " 'deer',\n",
              " 'bird',\n",
              " 'cat',\n",
              " 'cat',\n",
              " 'horse',\n",
              " 'bird',\n",
              " 'bird',\n",
              " 'deer',\n",
              " 'deer',\n",
              " 'cat',\n",
              " 'automobile',\n",
              " 'automobile',\n",
              " 'horse',\n",
              " 'deer',\n",
              " 'ship',\n",
              " 'dog',\n",
              " 'airplane',\n",
              " 'ship',\n",
              " 'dog',\n",
              " 'ship',\n",
              " 'bird',\n",
              " 'truck',\n",
              " 'deer',\n",
              " 'automobile',\n",
              " 'deer',\n",
              " 'deer',\n",
              " 'ship',\n",
              " 'frog',\n",
              " 'deer',\n",
              " 'ship',\n",
              " 'automobile',\n",
              " 'cat',\n",
              " 'frog',\n",
              " 'deer',\n",
              " 'frog',\n",
              " 'frog',\n",
              " 'frog',\n",
              " 'automobile',\n",
              " 'automobile',\n",
              " 'ship',\n",
              " 'automobile',\n",
              " 'deer',\n",
              " 'bird',\n",
              " 'automobile',\n",
              " 'bird',\n",
              " 'ship',\n",
              " 'ship',\n",
              " 'ship',\n",
              " 'automobile',\n",
              " 'automobile',\n",
              " 'frog',\n",
              " 'ship',\n",
              " 'frog',\n",
              " 'deer',\n",
              " 'horse',\n",
              " 'ship',\n",
              " 'dog',\n",
              " 'automobile',\n",
              " 'bird',\n",
              " 'bird',\n",
              " 'automobile',\n",
              " 'cat',\n",
              " 'ship',\n",
              " 'cat',\n",
              " 'frog',\n",
              " 'frog',\n",
              " 'ship',\n",
              " 'bird',\n",
              " 'dog',\n",
              " 'ship',\n",
              " ...]"
            ]
          },
          "metadata": {},
          "execution_count": 29
        }
      ]
    },
    {
      "cell_type": "code",
      "source": [
        "x_train.shape"
      ],
      "metadata": {
        "colab": {
          "base_uri": "https://localhost:8080/"
        },
        "id": "11J_azunmjTT",
        "outputId": "63d64541-f0ce-4c07-9082-ac7b67d5da76"
      },
      "execution_count": 30,
      "outputs": [
        {
          "output_type": "execute_result",
          "data": {
            "text/plain": [
              "(50000, 32, 32, 3)"
            ]
          },
          "metadata": {},
          "execution_count": 30
        }
      ]
    },
    {
      "cell_type": "code",
      "source": [
        "x_test.shape"
      ],
      "metadata": {
        "colab": {
          "base_uri": "https://localhost:8080/"
        },
        "id": "CgfGpTqLm5b1",
        "outputId": "a94ec98f-9e5b-474a-a6d8-0e6f099c4a7a"
      },
      "execution_count": 31,
      "outputs": [
        {
          "output_type": "execute_result",
          "data": {
            "text/plain": [
              "(10000, 32, 32, 3)"
            ]
          },
          "metadata": {},
          "execution_count": 31
        }
      ]
    },
    {
      "cell_type": "code",
      "source": [
        "len(prediction)"
      ],
      "metadata": {
        "colab": {
          "base_uri": "https://localhost:8080/"
        },
        "id": "1-9C3eY6m7L2",
        "outputId": "ca8d63c2-86ee-4f6f-d196-0d8e5c957df0"
      },
      "execution_count": 32,
      "outputs": [
        {
          "output_type": "execute_result",
          "data": {
            "text/plain": [
              "10000"
            ]
          },
          "metadata": {},
          "execution_count": 32
        }
      ]
    },
    {
      "cell_type": "code",
      "source": [
        "for i in range(10):\n",
        "  plt.imshow(x_train[i])\n",
        "  plt.axis('off')\n",
        "  plt.title(f\"Prediction is {prediction[i]}\")\n",
        "  plt.show()"
      ],
      "metadata": {
        "colab": {
          "base_uri": "https://localhost:8080/",
          "height": 1000
        },
        "id": "IuH14PjInAQE",
        "outputId": "d57adf5a-b714-4e3a-98d9-07a888803cce"
      },
      "execution_count": 34,
      "outputs": [
        {
          "output_type": "display_data",
          "data": {
            "text/plain": [
              "<Figure size 640x480 with 1 Axes>"
            ],
            "image/png": "[encoded data removed]"
          },
          "metadata": {}
        },
        {
          "output_type": "display_data",
          "data": {
            "text/plain": [
              "<Figure size 640x480 with 1 Axes>"
            ],
            "image/png": "[encoded data removed]"
          },
          "metadata": {}
        },
        {
          "output_type": "display_data",
          "data": {
            "text/plain": [
              "<Figure size 640x480 with 1 Axes>"
            ],
            "image/png": "[encoded data removed]"
          },
          "metadata": {}
        },
        {
          "output_type": "display_data",
          "data": {
            "text/plain": [
              "<Figure size 640x480 with 1 Axes>"
            ],
            "image/png": "[encoded data removed]"
          },
          "metadata": {}
        },
        {
          "output_type": "display_data",
          "data": {
            "text/plain": [
              "<Figure size 640x480 with 1 Axes>"
            ],
            "image/png": "[encoded data removed]"
          },
          "metadata": {}
        },
        {
          "output_type": "display_data",
          "data": {
            "text/plain": [
              "<Figure size 640x480 with 1 Axes>"
            ],
            "image/png": "[encoded data removed]"
          },
          "metadata": {}
        },
        {
          "output_type": "display_data",
          "data": {
            "text/plain": [
              "<Figure size 640x480 with 1 Axes>"
            ],
            "image/png": "[encoded data removed]"
          },
          "metadata": {}
        },
        {
          "output_type": "display_data",
          "data": {
            "text/plain": [
              "<Figure size 640x480 with 1 Axes>"
            ],
            "image/png": "[encoded data removed]"
          },
          "metadata": {}
        },
        {
          "output_type": "display_data",
          "data": {
            "text/plain": [
              "<Figure size 640x480 with 1 Axes>"
            ],
            "image/png": "[encoded data removed]"
          },
          "metadata": {}
        },
        {
          "output_type": "display_data",
          "data": {
            "text/plain": [
              "<Figure size 640x480 with 1 Axes>"
            ],
            "image/png": "[encoded data removed]"
          },
          "metadata": {}
        }
      ]
    },
    {
      "cell_type": "code",
      "source": [
        "from sklearn.metrics import accuracy_score\n",
        "accuracy_score(pred,y_test)"
      ],
      "metadata": {
        "colab": {
          "base_uri": "https://localhost:8080/"
        },
        "id": "CkjFM0jFnmZy",
        "outputId": "ca76d087-fe9a-4e36-869a-6ba3731c22a9"
      },
      "execution_count": 35,
      "outputs": [
        {
          "output_type": "execute_result",
          "data": {
            "text/plain": [
              "0.4095"
            ]
          },
          "metadata": {},
          "execution_count": 35
        }
      ]
    },
    {
      "cell_type": "code",
      "source": [
        "cnn=models.Sequential([\n",
        "    layers.Conv2D(filters=32, kernel_size=(3, 3),activation=\"relu\",input_shape=(32,32,3)),\n",
        "    layers.MaxPooling2D((2, 2)),\n",
        "\n",
        "    layers.Conv2D(filters=64, kernel_size=(3, 3),activation=\"relu\"),\n",
        "    layers.MaxPooling2D((2, 2)),\n",
        "\n",
        "    layers.Flatten(),\n",
        "    layers.Dense(100,activation=\"relu\"),\n",
        "    layers.Dense(10,activation=\"softmax\")\n",
        "])"
      ],
      "metadata": {
        "id": "ZKLOq6BjnXEu"
      },
      "execution_count": 36,
      "outputs": []
    },
    {
      "cell_type": "code",
      "source": [
        "cnn.compile(\n",
        "   optimizer=\"adam\",\n",
        "   loss=\"sparse_categorical_crossentropy\",\n",
        "   metrics=[\"accuracy\"]\n",
        ")"
      ],
      "metadata": {
        "id": "O4plETH_oWxe"
      },
      "execution_count": 37,
      "outputs": []
    },
    {
      "cell_type": "code",
      "source": [
        "cnn.fit(x_train,y_train,epochs=2)"
      ],
      "metadata": {
        "colab": {
          "base_uri": "https://localhost:8080/"
        },
        "id": "SHgnD29Rob87",
        "outputId": "09a3f12d-b6cd-41d1-9adf-243dbdb7b74c"
      },
      "execution_count": 38,
      "outputs": [
        {
          "output_type": "stream",
          "name": "stdout",
          "text": [
            "Epoch 1/2\n",
            "1563/1563 [==============================] - 71s 44ms/step - loss: 1.4265 - accuracy: 0.4897\n",
            "Epoch 2/2\n",
            "1563/1563 [==============================] - 66s 42ms/step - loss: 1.0850 - accuracy: 0.6200\n"
          ]
        },
        {
          "output_type": "execute_result",
          "data": {
            "text/plain": [
              "<keras.src.callbacks.History at 0x7847996ff280>"
            ]
          },
          "metadata": {},
          "execution_count": 38
        }
      ]
    },
    {
      "cell_type": "code",
      "source": [
        "result=cnn.predict(x_test)\n",
        "res=np.argmax(result,axis=1)\n",
        "res"
      ],
      "metadata": {
        "colab": {
          "base_uri": "https://localhost:8080/"
        },
        "id": "90AWWhDFofON",
        "outputId": "7a4a8d49-48dd-46da-d481-488eb02e172c"
      },
      "execution_count": 39,
      "outputs": [
        {
          "output_type": "stream",
          "name": "stdout",
          "text": [
            "313/313 [==============================] - 9s 29ms/step\n"
          ]
        },
        {
          "output_type": "execute_result",
          "data": {
            "text/plain": [
              "array([3, 8, 8, ..., 5, 1, 7])"
            ]
          },
          "metadata": {},
          "execution_count": 39
        }
      ]
    },
    {
      "cell_type": "code",
      "source": [
        "prediction=[cifar10_classes[i] for i in pred]"
      ],
      "metadata": {
        "id": "_HcXzzO7pN3S"
      },
      "execution_count": 40,
      "outputs": []
    },
    {
      "cell_type": "code",
      "source": [
        "for i in range(10):\n",
        "  plt.imshow(x_train[i])\n",
        "  plt.axis('off')\n",
        "  plt.title(f\"Prediction is {prediction[i]}\")\n",
        "  plt.show()"
      ],
      "metadata": {
        "colab": {
          "base_uri": "https://localhost:8080/",
          "height": 1000
        },
        "id": "mayEi5gxpcPl",
        "outputId": "491c1cbc-bd3f-4d2d-cdb1-0c62bf787fea"
      },
      "execution_count": 41,
      "outputs": [
        {
          "output_type": "display_data",
          "data": {
            "text/plain": [
              "<Figure size 640x480 with 1 Axes>"
            ],
            "image/png": "[encoded data removed]"
          },
          "metadata": {}
        },
        {
          "output_type": "display_data",
          "data": {
            "text/plain": [
              "<Figure size 640x480 with 1 Axes>"
            ],
            "image/png": "[encoded data removed]"
          },
          "metadata": {}
        },
        {
          "output_type": "display_data",
          "data": {
            "text/plain": [
              "<Figure size 640x480 with 1 Axes>"
            ],
            "image/png": "[encoded data removed]"
          },
          "metadata": {}
        },
        {
          "output_type": "display_data",
          "data": {
            "text/plain": [
              "<Figure size 640x480 with 1 Axes>"
            ],
            "image/png": "[encoded data removed]"
          },
          "metadata": {}
        },
        {
          "output_type": "display_data",
          "data": {
            "text/plain": [
              "<Figure size 640x480 with 1 Axes>"
            ],
            "image/png": "[encoded data removed]"
          },
          "metadata": {}
        },
        {
          "output_type": "display_data",
          "data": {
            "text/plain": [
              "<Figure size 640x480 with 1 Axes>"
            ],
            "image/png": "[encoded data removed]"
          },
          "metadata": {}
        },
        {
          "output_type": "display_data",
          "data": {
            "text/plain": [
              "<Figure size 640x480 with 1 Axes>"
            ],
            "image/png": "[encoded data removed]"
          },
          "metadata": {}
        },
        {
          "output_type": "display_data",
          "data": {
            "text/plain": [
              "<Figure size 640x480 with 1 Axes>"
            ],
            "image/png": "[encoded data removed]"
          },
          "metadata": {}
        },
        {
          "output_type": "display_data",
          "data": {
            "text/plain": [
              "<Figure size 640x480 with 1 Axes>"
            ],
            "image/png": "[encoded data removed]"
          },
          "metadata": {}
        },
        {
          "output_type": "display_data",
          "data": {
            "text/plain": [
              "<Figure size 640x480 with 1 Axes>"
            ],
            "image/png": "[encoded data removed]"
          },
          "metadata": {}
        }
      ]
    },
    {
      "cell_type": "code",
      "source": [
        "print(accuracy_score(y_test,pred))"
      ],
      "metadata": {
        "colab": {
          "base_uri": "https://localhost:8080/"
        },
        "id": "ZpoWGO-XpgoA",
        "outputId": "f2fa6b59-dd36-4345-8836-1c6f44863d28"
      },
      "execution_count": 42,
      "outputs": [
        {
          "output_type": "stream",
          "name": "stdout",
          "text": [
            "0.4095\n"
          ]
        }
      ]
    }
  ]
}