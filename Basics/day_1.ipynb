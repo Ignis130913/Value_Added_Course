{
 "cells": [
  {
   "cell_type": "markdown",
   "id": "ca1920a4-384f-49d1-abd8-95d9ae80b07e",
   "metadata": {},
   "source": [
    "Importing"
   ]
  },
  {
   "cell_type": "code",
   "execution_count": 2,
   "id": "8b4f9fa7-0281-4b68-a43a-a1021b04134d",
   "metadata": {},
   "outputs": [],
   "source": [
    "import numpy as np\n",
    "import random\n",
    "import pandas as pd"
   ]
  },
  {
   "cell_type": "markdown",
   "id": "22814dc4-c07e-4397-8c5c-65bb25c04ce2",
   "metadata": {},
   "source": [
    "Numpy"
   ]
  },
  {
   "cell_type": "code",
   "execution_count": 2,
   "id": "554b1778-3285-4de9-aade-05d426e2f58d",
   "metadata": {},
   "outputs": [
    {
     "name": "stdout",
     "output_type": "stream",
     "text": [
      "[ 0  1  2  3  4  5  6  7  8  9 10 11 12 13 14]\n",
      "[[ 0  1  2  3  4]\n",
      " [ 5  6  7  8  9]\n",
      " [10 11 12 13 14]]\n"
     ]
    }
   ],
   "source": [
    "a=np.arange(15)\n",
    "print(a)\n",
    "print(a.reshape(3,5))"
   ]
  },
  {
   "cell_type": "code",
   "execution_count": 3,
   "id": "346d8aef-78be-4e01-aa42-5eace2b1cbfb",
   "metadata": {},
   "outputs": [
    {
     "data": {
      "text/plain": [
       "(15,)"
      ]
     },
     "execution_count": 3,
     "metadata": {},
     "output_type": "execute_result"
    }
   ],
   "source": [
    "a.shape"
   ]
  },
  {
   "cell_type": "code",
   "execution_count": 4,
   "id": "ee4606d6-6bd4-48d8-bf71-5f094876a7ca",
   "metadata": {},
   "outputs": [],
   "source": [
    "a=a.reshape(3,5)"
   ]
  },
  {
   "cell_type": "code",
   "execution_count": 5,
   "id": "98ed8f34-7d50-4a11-9025-f86d57938e8c",
   "metadata": {},
   "outputs": [
    {
     "data": {
      "text/plain": [
       "'int32'"
      ]
     },
     "execution_count": 5,
     "metadata": {},
     "output_type": "execute_result"
    }
   ],
   "source": [
    "a.dtype.name"
   ]
  },
  {
   "cell_type": "code",
   "execution_count": 6,
   "id": "2026f9df-533c-4696-87f5-d0e9ac466444",
   "metadata": {},
   "outputs": [
    {
     "data": {
      "text/plain": [
       "2"
      ]
     },
     "execution_count": 6,
     "metadata": {},
     "output_type": "execute_result"
    }
   ],
   "source": [
    "a.ndim"
   ]
  },
  {
   "cell_type": "code",
   "execution_count": 7,
   "id": "c9769f4c-7540-485d-b779-ca665bd203ae",
   "metadata": {},
   "outputs": [
    {
     "data": {
      "text/plain": [
       "array([[ 0,  1,  2,  3,  4],\n",
       "       [ 5,  6,  7,  8,  9],\n",
       "       [10, 11, 12, 13, 14]])"
      ]
     },
     "execution_count": 7,
     "metadata": {},
     "output_type": "execute_result"
    }
   ],
   "source": [
    "a"
   ]
  },
  {
   "cell_type": "code",
   "execution_count": 8,
   "id": "57e447a5-2f5f-4f10-ad27-ba4f08c60e2e",
   "metadata": {},
   "outputs": [],
   "source": [
    "a=np.ones(2)"
   ]
  },
  {
   "cell_type": "code",
   "execution_count": 9,
   "id": "d013cd79-7aad-400c-9a52-e0e448a6fa8a",
   "metadata": {},
   "outputs": [
    {
     "data": {
      "text/plain": [
       "array([1., 1.])"
      ]
     },
     "execution_count": 9,
     "metadata": {},
     "output_type": "execute_result"
    }
   ],
   "source": [
    "a"
   ]
  },
  {
   "cell_type": "code",
   "execution_count": 10,
   "id": "5283e28e-c516-472a-b1b1-6d14215dbaa0",
   "metadata": {},
   "outputs": [],
   "source": [
    "a=np.eye(4)"
   ]
  },
  {
   "cell_type": "code",
   "execution_count": 11,
   "id": "91328d4b-817c-4bcb-bfc8-944d705a5adb",
   "metadata": {},
   "outputs": [
    {
     "data": {
      "text/plain": [
       "array([[1., 0., 0., 0.],\n",
       "       [0., 1., 0., 0.],\n",
       "       [0., 0., 1., 0.],\n",
       "       [0., 0., 0., 1.]])"
      ]
     },
     "execution_count": 11,
     "metadata": {},
     "output_type": "execute_result"
    }
   ],
   "source": [
    "a"
   ]
  },
  {
   "cell_type": "code",
   "execution_count": 12,
   "id": "3e69444b-dfe6-4c30-a1aa-8f2be933d0a6",
   "metadata": {},
   "outputs": [],
   "source": [
    "a=np.empty(5)"
   ]
  },
  {
   "cell_type": "code",
   "execution_count": 13,
   "id": "763c1991-94f6-4716-bcd4-57767db7652d",
   "metadata": {},
   "outputs": [
    {
     "data": {
      "text/plain": [
       "array([2.12199579e-314, 4.67296746e-307, 5.53353523e-321, 1.51298300e-311,\n",
       "       2.42092166e-322])"
      ]
     },
     "execution_count": 13,
     "metadata": {},
     "output_type": "execute_result"
    }
   ],
   "source": [
    "a"
   ]
  },
  {
   "cell_type": "code",
   "execution_count": 14,
   "id": "04f40da1-4a1c-4225-a917-829219fba294",
   "metadata": {},
   "outputs": [],
   "source": [
    "a=np.arange(24)"
   ]
  },
  {
   "cell_type": "code",
   "execution_count": 15,
   "id": "c0c0f9f0-b72f-47db-a181-f4ad7193bbd3",
   "metadata": {},
   "outputs": [],
   "source": [
    "a=a.reshape(3,2,4)"
   ]
  },
  {
   "cell_type": "code",
   "execution_count": 16,
   "id": "14f3fba8-a959-41c1-8853-80f797a41cff",
   "metadata": {},
   "outputs": [
    {
     "data": {
      "text/plain": [
       "array([[[ 0,  1,  2,  3],\n",
       "        [ 4,  5,  6,  7]],\n",
       "\n",
       "       [[ 8,  9, 10, 11],\n",
       "        [12, 13, 14, 15]],\n",
       "\n",
       "       [[16, 17, 18, 19],\n",
       "        [20, 21, 22, 23]]])"
      ]
     },
     "execution_count": 16,
     "metadata": {},
     "output_type": "execute_result"
    }
   ],
   "source": [
    "a"
   ]
  },
  {
   "cell_type": "code",
   "execution_count": 17,
   "id": "126e1ecb-3d50-4750-8ae4-a45c88939404",
   "metadata": {
    "scrolled": true
   },
   "outputs": [],
   "source": [
    "b,c=np.random.random((2,4)),np.random.random((2,4))"
   ]
  },
  {
   "cell_type": "code",
   "execution_count": 18,
   "id": "c075dc88-7c3e-471a-98c7-8a3f91733fd3",
   "metadata": {},
   "outputs": [
    {
     "name": "stdout",
     "output_type": "stream",
     "text": [
      "[[0.987486   0.01909179 0.32185985 0.06191212]\n",
      " [0.9865077  0.7354031  0.50237941 0.66608412]]\n",
      "\n",
      "[[0.06214838 0.23118184 0.67197345 0.15748891]\n",
      " [0.91180918 0.3668811  0.93045876 0.94933332]]\n",
      "\n",
      "\n",
      "\n",
      "[[1.04963438 0.25027363 0.9938333  0.21940103]\n",
      " [1.89831688 1.1022842  1.43283816 1.61541744]]\n"
     ]
    }
   ],
   "source": [
    "print(b);print();print(c)\n",
    "print(\"\\n\\n\")\n",
    "print(b+c)"
   ]
  },
  {
   "cell_type": "code",
   "execution_count": 19,
   "id": "6afa5fb6-af96-46e6-bca2-ab870665e945",
   "metadata": {},
   "outputs": [
    {
     "name": "stdout",
     "output_type": "stream",
     "text": [
      "[[ 0.92533761 -0.21209005 -0.35011361 -0.09557679]\n",
      " [ 0.07469852  0.368522   -0.42807935 -0.2832492 ]]\n",
      "[[0.06137066 0.00441367 0.21628127 0.00975047]\n",
      " [0.89950678 0.2698055  0.46744332 0.63233585]]\n",
      "[[15.88916626  0.08258343  0.47897703  0.39312052]\n",
      " [ 1.08192341  2.00447258  0.53992657  0.70163356]]\n"
     ]
    }
   ],
   "source": [
    "print(b-c)\n",
    "print(b*c)\n",
    "print(b/c)"
   ]
  },
  {
   "cell_type": "code",
   "execution_count": 34,
   "id": "d56b8b5b-b011-4ae0-9385-ecd994d97b48",
   "metadata": {},
   "outputs": [],
   "source": [
    "arr=np.arange(30)"
   ]
  },
  {
   "cell_type": "code",
   "execution_count": 35,
   "id": "bc038dd7-068f-4b20-a0bf-4a2de28c7f00",
   "metadata": {},
   "outputs": [
    {
     "data": {
      "text/plain": [
       "array([ 0,  1,  2,  3,  4,  5,  6,  7,  8,  9, 10, 11, 12, 13, 14, 15, 16,\n",
       "       17, 18, 19, 20, 21, 22, 23, 24, 25, 26, 27, 28, 29])"
      ]
     },
     "execution_count": 35,
     "metadata": {},
     "output_type": "execute_result"
    }
   ],
   "source": [
    "arr"
   ]
  },
  {
   "cell_type": "code",
   "execution_count": 36,
   "id": "386e3ea9-aec8-46d7-ad5c-3a1ed2f9fa9b",
   "metadata": {},
   "outputs": [],
   "source": [
    "arr=arr.reshape(5,3,2)"
   ]
  },
  {
   "cell_type": "code",
   "execution_count": 37,
   "id": "ea44f240-54bf-46d1-8896-4c439ab83936",
   "metadata": {},
   "outputs": [
    {
     "data": {
      "text/plain": [
       "array([[[ 0,  1],\n",
       "        [ 2,  3],\n",
       "        [ 4,  5]],\n",
       "\n",
       "       [[ 6,  7],\n",
       "        [ 8,  9],\n",
       "        [10, 11]],\n",
       "\n",
       "       [[12, 13],\n",
       "        [14, 15],\n",
       "        [16, 17]],\n",
       "\n",
       "       [[18, 19],\n",
       "        [20, 21],\n",
       "        [22, 23]],\n",
       "\n",
       "       [[24, 25],\n",
       "        [26, 27],\n",
       "        [28, 29]]])"
      ]
     },
     "execution_count": 37,
     "metadata": {},
     "output_type": "execute_result"
    }
   ],
   "source": [
    "arr"
   ]
  },
  {
   "cell_type": "code",
   "execution_count": 38,
   "id": "33ded118-a9f8-4f75-ba01-0cd3d8a2e327",
   "metadata": {},
   "outputs": [],
   "source": [
    "arr=np.random.randn(12)"
   ]
  },
  {
   "cell_type": "code",
   "execution_count": 39,
   "id": "bb77a010-bb54-46ea-95a5-95ee256cc833",
   "metadata": {},
   "outputs": [
    {
     "data": {
      "text/plain": [
       "array([ 1.98751719,  1.59589764,  0.69727733,  0.57688427,  2.61769905,\n",
       "        0.26316682,  0.53998765,  2.03382678, -0.5089186 ,  0.08619195,\n",
       "        0.05235419, -0.05908008])"
      ]
     },
     "execution_count": 39,
     "metadata": {},
     "output_type": "execute_result"
    }
   ],
   "source": [
    "arr"
   ]
  },
  {
   "cell_type": "code",
   "execution_count": 42,
   "id": "ffadaf3b-684c-4f33-88cc-9572e6a9e13c",
   "metadata": {},
   "outputs": [
    {
     "data": {
      "text/plain": [
       "7"
      ]
     },
     "execution_count": 42,
     "metadata": {},
     "output_type": "execute_result"
    }
   ],
   "source": [
    "np.random.randint(15)"
   ]
  },
  {
   "cell_type": "code",
   "execution_count": 43,
   "id": "1f0105f0-4a4d-450e-b63b-362b232c8f15",
   "metadata": {},
   "outputs": [
    {
     "name": "stderr",
     "output_type": "stream",
     "text": [
      "C:\\Users\\SREERAM\\AppData\\Local\\Temp\\ipykernel_17252\\2296558006.py:1: RuntimeWarning: invalid value encountered in sqrt\n",
      "  np.sqrt(arr)\n"
     ]
    },
    {
     "data": {
      "text/plain": [
       "array([1.40979331, 1.26328842, 0.83503134, 0.75952898, 1.61793048,\n",
       "       0.51299788, 0.73483852, 1.42612299,        nan, 0.29358466,\n",
       "       0.22881039,        nan])"
      ]
     },
     "execution_count": 43,
     "metadata": {},
     "output_type": "execute_result"
    }
   ],
   "source": [
    "np.sqrt(arr)"
   ]
  },
  {
   "cell_type": "code",
   "execution_count": 44,
   "id": "58804e12-4f23-46bb-9383-f4d51d5d78e4",
   "metadata": {},
   "outputs": [
    {
     "data": {
      "text/plain": [
       "array([ 7.29739319,  4.9327549 ,  2.00827738,  1.78048227, 13.70415467,\n",
       "        1.30104374,  1.71598567,  7.64327962,  0.60114531,  1.09001554,\n",
       "        1.05374891,  0.94263128])"
      ]
     },
     "execution_count": 44,
     "metadata": {},
     "output_type": "execute_result"
    }
   ],
   "source": [
    "np.exp(arr)"
   ]
  },
  {
   "cell_type": "code",
   "execution_count": 7,
   "id": "9a2c4636-0913-4278-aa80-a38645ac4ead",
   "metadata": {},
   "outputs": [],
   "source": [
    "series=pd.Series([1,2,34,'hello','hi'],index=[1,2,3,4,5])"
   ]
  },
  {
   "cell_type": "code",
   "execution_count": 8,
   "id": "bc5c3528-0f16-43cb-b685-3e263560df69",
   "metadata": {},
   "outputs": [
    {
     "data": {
      "text/plain": [
       "1        1\n",
       "2        2\n",
       "3       34\n",
       "4    hello\n",
       "5       hi\n",
       "dtype: object"
      ]
     },
     "execution_count": 8,
     "metadata": {},
     "output_type": "execute_result"
    }
   ],
   "source": [
    "series"
   ]
  },
  {
   "cell_type": "code",
   "execution_count": 9,
   "id": "b8cc4bce-ff04-4409-9827-276255c2c6aa",
   "metadata": {},
   "outputs": [
    {
     "data": {
      "text/plain": [
       "pandas.core.series.Series"
      ]
     },
     "execution_count": 9,
     "metadata": {},
     "output_type": "execute_result"
    }
   ],
   "source": [
    "type(series)"
   ]
  },
  {
   "cell_type": "code",
   "execution_count": 28,
   "id": "13c8176b-7d74-4621-b179-be9561942db9",
   "metadata": {},
   "outputs": [],
   "source": [
    "placement=pd.read_csv('placement-dataset.csv')"
   ]
  },
  {
   "cell_type": "code",
   "execution_count": 13,
   "id": "a122a409-5112-429a-a961-f70166bcc983",
   "metadata": {},
   "outputs": [
    {
     "data": {
      "text/plain": [
       "Index(['Unnamed: 0', 'cgpa', 'iq', 'placement'], dtype='object')"
      ]
     },
     "execution_count": 13,
     "metadata": {},
     "output_type": "execute_result"
    }
   ],
   "source": [
    "placement.columns"
   ]
  },
  {
   "cell_type": "code",
   "execution_count": 18,
   "id": "7935141a-19c7-4f4b-8ec9-52e45660dda3",
   "metadata": {},
   "outputs": [
    {
     "data": {
      "text/html": [
       "<div>\n",
       "<style scoped>\n",
       "    .dataframe tbody tr th:only-of-type {\n",
       "        vertical-align: middle;\n",
       "    }\n",
       "\n",
       "    .dataframe tbody tr th {\n",
       "        vertical-align: top;\n",
       "    }\n",
       "\n",
       "    .dataframe thead th {\n",
       "        text-align: right;\n",
       "    }\n",
       "</style>\n",
       "<table border=\"1\" class=\"dataframe\">\n",
       "  <thead>\n",
       "    <tr style=\"text-align: right;\">\n",
       "      <th></th>\n",
       "      <th>Unnamed: 0</th>\n",
       "      <th>cgpa</th>\n",
       "      <th>iq</th>\n",
       "      <th>placement</th>\n",
       "    </tr>\n",
       "  </thead>\n",
       "  <tbody>\n",
       "    <tr>\n",
       "      <th>0</th>\n",
       "      <td>0</td>\n",
       "      <td>6.8</td>\n",
       "      <td>123.0</td>\n",
       "      <td>1</td>\n",
       "    </tr>\n",
       "    <tr>\n",
       "      <th>1</th>\n",
       "      <td>1</td>\n",
       "      <td>5.9</td>\n",
       "      <td>106.0</td>\n",
       "      <td>0</td>\n",
       "    </tr>\n",
       "    <tr>\n",
       "      <th>2</th>\n",
       "      <td>2</td>\n",
       "      <td>5.3</td>\n",
       "      <td>121.0</td>\n",
       "      <td>0</td>\n",
       "    </tr>\n",
       "  </tbody>\n",
       "</table>\n",
       "</div>"
      ],
      "text/plain": [
       "   Unnamed: 0  cgpa     iq  placement\n",
       "0           0   6.8  123.0          1\n",
       "1           1   5.9  106.0          0\n",
       "2           2   5.3  121.0          0"
      ]
     },
     "execution_count": 18,
     "metadata": {},
     "output_type": "execute_result"
    }
   ],
   "source": [
    "placement.head(3)"
   ]
  },
  {
   "cell_type": "code",
   "execution_count": 24,
   "id": "6df72eed-37e2-4cad-88f0-2d172b716c17",
   "metadata": {},
   "outputs": [
    {
     "data": {
      "text/html": [
       "<div>\n",
       "<style scoped>\n",
       "    .dataframe tbody tr th:only-of-type {\n",
       "        vertical-align: middle;\n",
       "    }\n",
       "\n",
       "    .dataframe tbody tr th {\n",
       "        vertical-align: top;\n",
       "    }\n",
       "\n",
       "    .dataframe thead th {\n",
       "        text-align: right;\n",
       "    }\n",
       "</style>\n",
       "<table border=\"1\" class=\"dataframe\">\n",
       "  <thead>\n",
       "    <tr style=\"text-align: right;\">\n",
       "      <th></th>\n",
       "      <th>Unnamed: 0</th>\n",
       "      <th>cgpa</th>\n",
       "      <th>iq</th>\n",
       "      <th>placement</th>\n",
       "    </tr>\n",
       "  </thead>\n",
       "  <tbody>\n",
       "    <tr>\n",
       "      <th>3</th>\n",
       "      <td>3</td>\n",
       "      <td>7.4</td>\n",
       "      <td>132.0</td>\n",
       "      <td>1</td>\n",
       "    </tr>\n",
       "    <tr>\n",
       "      <th>21</th>\n",
       "      <td>21</td>\n",
       "      <td>7.1</td>\n",
       "      <td>151.0</td>\n",
       "      <td>1</td>\n",
       "    </tr>\n",
       "    <tr>\n",
       "      <th>30</th>\n",
       "      <td>30</td>\n",
       "      <td>7.6</td>\n",
       "      <td>128.0</td>\n",
       "      <td>1</td>\n",
       "    </tr>\n",
       "    <tr>\n",
       "      <th>37</th>\n",
       "      <td>37</td>\n",
       "      <td>8.1</td>\n",
       "      <td>149.0</td>\n",
       "      <td>1</td>\n",
       "    </tr>\n",
       "    <tr>\n",
       "      <th>53</th>\n",
       "      <td>53</td>\n",
       "      <td>8.3</td>\n",
       "      <td>168.0</td>\n",
       "      <td>1</td>\n",
       "    </tr>\n",
       "    <tr>\n",
       "      <th>55</th>\n",
       "      <td>55</td>\n",
       "      <td>7.8</td>\n",
       "      <td>114.0</td>\n",
       "      <td>1</td>\n",
       "    </tr>\n",
       "    <tr>\n",
       "      <th>61</th>\n",
       "      <td>61</td>\n",
       "      <td>7.3</td>\n",
       "      <td>137.0</td>\n",
       "      <td>1</td>\n",
       "    </tr>\n",
       "    <tr>\n",
       "      <th>65</th>\n",
       "      <td>65</td>\n",
       "      <td>8.1</td>\n",
       "      <td>166.0</td>\n",
       "      <td>1</td>\n",
       "    </tr>\n",
       "    <tr>\n",
       "      <th>69</th>\n",
       "      <td>69</td>\n",
       "      <td>8.5</td>\n",
       "      <td>120.0</td>\n",
       "      <td>1</td>\n",
       "    </tr>\n",
       "    <tr>\n",
       "      <th>72</th>\n",
       "      <td>72</td>\n",
       "      <td>7.3</td>\n",
       "      <td>116.0</td>\n",
       "      <td>1</td>\n",
       "    </tr>\n",
       "    <tr>\n",
       "      <th>83</th>\n",
       "      <td>83</td>\n",
       "      <td>7.5</td>\n",
       "      <td>130.0</td>\n",
       "      <td>1</td>\n",
       "    </tr>\n",
       "    <tr>\n",
       "      <th>91</th>\n",
       "      <td>91</td>\n",
       "      <td>7.5</td>\n",
       "      <td>158.0</td>\n",
       "      <td>1</td>\n",
       "    </tr>\n",
       "  </tbody>\n",
       "</table>\n",
       "</div>"
      ],
      "text/plain": [
       "    Unnamed: 0  cgpa     iq  placement\n",
       "3            3   7.4  132.0          1\n",
       "21          21   7.1  151.0          1\n",
       "30          30   7.6  128.0          1\n",
       "37          37   8.1  149.0          1\n",
       "53          53   8.3  168.0          1\n",
       "55          55   7.8  114.0          1\n",
       "61          61   7.3  137.0          1\n",
       "65          65   8.1  166.0          1\n",
       "69          69   8.5  120.0          1\n",
       "72          72   7.3  116.0          1\n",
       "83          83   7.5  130.0          1\n",
       "91          91   7.5  158.0          1"
      ]
     },
     "execution_count": 24,
     "metadata": {},
     "output_type": "execute_result"
    }
   ],
   "source": [
    "placement[(placement['cgpa']>7) & (placement['iq']>100.0)]"
   ]
  },
  {
   "cell_type": "code",
   "execution_count": 3,
   "id": "f6a0dd70-953d-43d7-af09-7f3f8d56c8a0",
   "metadata": {},
   "outputs": [],
   "source": [
    "my_series=pd.Series({'Washington':12,'NewYork':100})"
   ]
  },
  {
   "cell_type": "code",
   "execution_count": 4,
   "id": "354a6750-3d9f-4c68-90b5-e49419163aeb",
   "metadata": {},
   "outputs": [
    {
     "data": {
      "text/plain": [
       "Washington    12\n",
       "dtype: int64"
      ]
     },
     "execution_count": 4,
     "metadata": {},
     "output_type": "execute_result"
    }
   ],
   "source": [
    "my_series[my_series<100]"
   ]
  },
  {
   "cell_type": "code",
   "execution_count": 7,
   "id": "30ecf6e2-f1f3-462a-91a1-27cb2515d108",
   "metadata": {},
   "outputs": [
    {
     "data": {
      "text/plain": [
       "(2,)"
      ]
     },
     "execution_count": 7,
     "metadata": {},
     "output_type": "execute_result"
    }
   ],
   "source": [
    "my_series.shape"
   ]
  },
  {
   "cell_type": "code",
   "execution_count": 14,
   "id": "3e367692-8eaa-4ad9-8b6c-2e4847a6300b",
   "metadata": {},
   "outputs": [],
   "source": [
    "s1=pd.Series(np.random.randn(5), index=['a','b','c','d','e'])"
   ]
  },
  {
   "cell_type": "code",
   "execution_count": 13,
   "id": "f3afaa85-a1a0-4733-8720-efee68b121d5",
   "metadata": {},
   "outputs": [
    {
     "data": {
      "text/plain": [
       "a   -0.144265\n",
       "b    0.986362\n",
       "c   -1.639103\n",
       "d    1.121028\n",
       "e    0.743483\n",
       "dtype: float64"
      ]
     },
     "execution_count": 13,
     "metadata": {},
     "output_type": "execute_result"
    }
   ],
   "source": [
    "s1"
   ]
  },
  {
   "cell_type": "code",
   "execution_count": 17,
   "id": "3fca8673-c97f-455c-9dcf-45fbb77618d4",
   "metadata": {},
   "outputs": [
    {
     "data": {
      "text/plain": [
       "a    0.058093\n",
       "b    0.973730\n",
       "c    1.166621\n",
       "d   -1.038574\n",
       "e   -0.301196\n",
       "a    0.279179\n",
       "b   -1.145107\n",
       "c   -0.269338\n",
       "d   -0.012203\n",
       "e    1.161634\n",
       "dtype: float64"
      ]
     },
     "execution_count": 17,
     "metadata": {},
     "output_type": "execute_result"
    }
   ],
   "source": [
    "s2=pd.Series(np.random.randn(5), index=['a','b','c','d','e'])\n",
    "pd.concat([s1,s2])"
   ]
  },
  {
   "cell_type": "code",
   "execution_count": 20,
   "id": "3f2799ce-f72a-45cc-8f77-fd142160d56a",
   "metadata": {},
   "outputs": [],
   "source": [
    "con=pd.concat([s1,s2], axis=1)"
   ]
  },
  {
   "cell_type": "code",
   "execution_count": 19,
   "id": "ec90d6a8-c6df-469f-88ad-ae7a229a3251",
   "metadata": {},
   "outputs": [
    {
     "data": {
      "text/html": [
       "<div>\n",
       "<style scoped>\n",
       "    .dataframe tbody tr th:only-of-type {\n",
       "        vertical-align: middle;\n",
       "    }\n",
       "\n",
       "    .dataframe tbody tr th {\n",
       "        vertical-align: top;\n",
       "    }\n",
       "\n",
       "    .dataframe thead th {\n",
       "        text-align: right;\n",
       "    }\n",
       "</style>\n",
       "<table border=\"1\" class=\"dataframe\">\n",
       "  <thead>\n",
       "    <tr style=\"text-align: right;\">\n",
       "      <th></th>\n",
       "      <th>index</th>\n",
       "      <th>0</th>\n",
       "      <th>1</th>\n",
       "    </tr>\n",
       "  </thead>\n",
       "  <tbody>\n",
       "    <tr>\n",
       "      <th>0</th>\n",
       "      <td>a</td>\n",
       "      <td>0.058093</td>\n",
       "      <td>0.279179</td>\n",
       "    </tr>\n",
       "    <tr>\n",
       "      <th>1</th>\n",
       "      <td>b</td>\n",
       "      <td>0.973730</td>\n",
       "      <td>-1.145107</td>\n",
       "    </tr>\n",
       "    <tr>\n",
       "      <th>2</th>\n",
       "      <td>c</td>\n",
       "      <td>1.166621</td>\n",
       "      <td>-0.269338</td>\n",
       "    </tr>\n",
       "    <tr>\n",
       "      <th>3</th>\n",
       "      <td>d</td>\n",
       "      <td>-1.038574</td>\n",
       "      <td>-0.012203</td>\n",
       "    </tr>\n",
       "    <tr>\n",
       "      <th>4</th>\n",
       "      <td>e</td>\n",
       "      <td>-0.301196</td>\n",
       "      <td>1.161634</td>\n",
       "    </tr>\n",
       "  </tbody>\n",
       "</table>\n",
       "</div>"
      ],
      "text/plain": [
       "  index         0         1\n",
       "0     a  0.058093  0.279179\n",
       "1     b  0.973730 -1.145107\n",
       "2     c  1.166621 -0.269338\n",
       "3     d -1.038574 -0.012203\n",
       "4     e -0.301196  1.161634"
      ]
     },
     "execution_count": 19,
     "metadata": {},
     "output_type": "execute_result"
    }
   ],
   "source": [
    "pd.concat([s1,s2], axis=1).reset_index()"
   ]
  },
  {
   "cell_type": "code",
   "execution_count": 22,
   "id": "6b8ae1d6-f499-4af3-9a4d-b3853b4efac1",
   "metadata": {},
   "outputs": [
    {
     "data": {
      "text/plain": [
       "-0.26933847778627873"
      ]
     },
     "execution_count": 22,
     "metadata": {},
     "output_type": "execute_result"
    }
   ],
   "source": [
    "con.iloc[2,1]"
   ]
  },
  {
   "cell_type": "code",
   "execution_count": 26,
   "id": "dcdc29c6-1db8-4dc0-803d-7aa82676fd9c",
   "metadata": {},
   "outputs": [],
   "source": [
    "df=pd.DataFrame(np.random.randn(25).reshape((5,5)))"
   ]
  },
  {
   "cell_type": "code",
   "execution_count": 27,
   "id": "a84db349-5a93-4299-bb6d-ac82dea35635",
   "metadata": {},
   "outputs": [
    {
     "data": {
      "text/html": [
       "<div>\n",
       "<style scoped>\n",
       "    .dataframe tbody tr th:only-of-type {\n",
       "        vertical-align: middle;\n",
       "    }\n",
       "\n",
       "    .dataframe tbody tr th {\n",
       "        vertical-align: top;\n",
       "    }\n",
       "\n",
       "    .dataframe thead th {\n",
       "        text-align: right;\n",
       "    }\n",
       "</style>\n",
       "<table border=\"1\" class=\"dataframe\">\n",
       "  <thead>\n",
       "    <tr style=\"text-align: right;\">\n",
       "      <th></th>\n",
       "      <th>0</th>\n",
       "      <th>1</th>\n",
       "      <th>2</th>\n",
       "      <th>3</th>\n",
       "      <th>4</th>\n",
       "    </tr>\n",
       "  </thead>\n",
       "  <tbody>\n",
       "    <tr>\n",
       "      <th>0</th>\n",
       "      <td>-0.399822</td>\n",
       "      <td>-0.813561</td>\n",
       "      <td>-0.316746</td>\n",
       "      <td>-1.164749</td>\n",
       "      <td>0.626567</td>\n",
       "    </tr>\n",
       "    <tr>\n",
       "      <th>1</th>\n",
       "      <td>-1.250829</td>\n",
       "      <td>-0.243730</td>\n",
       "      <td>0.266728</td>\n",
       "      <td>-0.615876</td>\n",
       "      <td>1.404880</td>\n",
       "    </tr>\n",
       "    <tr>\n",
       "      <th>2</th>\n",
       "      <td>-1.769507</td>\n",
       "      <td>0.191896</td>\n",
       "      <td>-0.210156</td>\n",
       "      <td>-0.797837</td>\n",
       "      <td>1.057229</td>\n",
       "    </tr>\n",
       "    <tr>\n",
       "      <th>3</th>\n",
       "      <td>1.657358</td>\n",
       "      <td>-0.538100</td>\n",
       "      <td>1.367079</td>\n",
       "      <td>0.219593</td>\n",
       "      <td>-0.280855</td>\n",
       "    </tr>\n",
       "    <tr>\n",
       "      <th>4</th>\n",
       "      <td>-1.638574</td>\n",
       "      <td>-0.512831</td>\n",
       "      <td>-1.452830</td>\n",
       "      <td>0.670577</td>\n",
       "      <td>0.687881</td>\n",
       "    </tr>\n",
       "  </tbody>\n",
       "</table>\n",
       "</div>"
      ],
      "text/plain": [
       "          0         1         2         3         4\n",
       "0 -0.399822 -0.813561 -0.316746 -1.164749  0.626567\n",
       "1 -1.250829 -0.243730  0.266728 -0.615876  1.404880\n",
       "2 -1.769507  0.191896 -0.210156 -0.797837  1.057229\n",
       "3  1.657358 -0.538100  1.367079  0.219593 -0.280855\n",
       "4 -1.638574 -0.512831 -1.452830  0.670577  0.687881"
      ]
     },
     "execution_count": 27,
     "metadata": {},
     "output_type": "execute_result"
    }
   ],
   "source": [
    "df"
   ]
  },
  {
   "cell_type": "code",
   "execution_count": 30,
   "id": "157daa1d-c060-40ed-8be9-de480600e74c",
   "metadata": {},
   "outputs": [
    {
     "data": {
      "text/plain": [
       "pandas.core.frame.DataFrame"
      ]
     },
     "execution_count": 30,
     "metadata": {},
     "output_type": "execute_result"
    }
   ],
   "source": [
    "type(placement)"
   ]
  }
 ],
 "metadata": {
  "kernelspec": {
   "display_name": "Python 3 (ipykernel)",
   "language": "python",
   "name": "python3"
  },
  "language_info": {
   "codemirror_mode": {
    "name": "ipython",
    "version": 3
   },
   "file_extension": ".py",
   "mimetype": "text/x-python",
   "name": "python",
   "nbconvert_exporter": "python",
   "pygments_lexer": "ipython3",
   "version": "3.11.5"
  }
 },
 "nbformat": 4,
 "nbformat_minor": 5
}
